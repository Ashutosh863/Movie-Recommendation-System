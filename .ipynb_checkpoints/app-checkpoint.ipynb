{
 "cells": [
  {
   "cell_type": "code",
   "execution_count": 1,
   "id": "21855b54-ba07-45d8-bed6-9f6a22e27549",
   "metadata": {},
   "outputs": [
    {
     "name": "stderr",
     "output_type": "stream",
     "text": [
      "2025-10-02 11:09:01.760 WARNING streamlit.runtime.scriptrunner_utils.script_run_context: Thread 'MainThread': missing ScriptRunContext! This warning can be ignored when running in bare mode.\n",
      "2025-10-02 11:09:02.657 \n",
      "  \u001b[33m\u001b[1mWarning:\u001b[0m to view this Streamlit app on a browser, run it with the following\n",
      "  command:\n",
      "\n",
      "    streamlit run C:\\Users\\ashut\\AppData\\Roaming\\Python\\Python313\\site-packages\\ipykernel_launcher.py [ARGUMENTS]\n",
      "2025-10-02 11:09:02.658 Thread 'MainThread': missing ScriptRunContext! This warning can be ignored when running in bare mode.\n",
      "2025-10-02 11:09:02.659 Thread 'MainThread': missing ScriptRunContext! This warning can be ignored when running in bare mode.\n",
      "2025-10-02 11:09:02.661 Thread 'MainThread': missing ScriptRunContext! This warning can be ignored when running in bare mode.\n",
      "2025-10-02 11:09:02.664 Thread 'MainThread': missing ScriptRunContext! This warning can be ignored when running in bare mode.\n",
      "2025-10-02 11:09:02.666 Thread 'MainThread': missing ScriptRunContext! This warning can be ignored when running in bare mode.\n",
      "2025-10-02 11:09:02.670 Thread 'MainThread': missing ScriptRunContext! This warning can be ignored when running in bare mode.\n",
      "2025-10-02 11:09:02.671 Thread 'MainThread': missing ScriptRunContext! This warning can be ignored when running in bare mode.\n",
      "2025-10-02 11:09:02.672 Session state does not function when running a script without `streamlit run`\n",
      "2025-10-02 11:09:02.674 Thread 'MainThread': missing ScriptRunContext! This warning can be ignored when running in bare mode.\n",
      "2025-10-02 11:09:02.674 Thread 'MainThread': missing ScriptRunContext! This warning can be ignored when running in bare mode.\n",
      "2025-10-02 11:09:02.676 Thread 'MainThread': missing ScriptRunContext! This warning can be ignored when running in bare mode.\n",
      "2025-10-02 11:09:02.678 Thread 'MainThread': missing ScriptRunContext! This warning can be ignored when running in bare mode.\n",
      "2025-10-02 11:09:02.679 Thread 'MainThread': missing ScriptRunContext! This warning can be ignored when running in bare mode.\n",
      "2025-10-02 11:09:02.680 Thread 'MainThread': missing ScriptRunContext! This warning can be ignored when running in bare mode.\n",
      "2025-10-02 11:09:02.681 Thread 'MainThread': missing ScriptRunContext! This warning can be ignored when running in bare mode.\n"
     ]
    }
   ],
   "source": [
    "import streamlit as st\n",
    "import pandas as pd\n",
    "import numpy as np\n",
    "import pickle\n",
    "\n",
    "scaler = pickle.load(open(\"scaler.pkl\",\"rb\")) \n",
    "kmeans = pickle.load(open(\"kmeans.pkl\",\"rb\")) \n",
    "user_movie_matrix = pickle.load(open(\"user_movie_matrix.pkl\",\"rb\"))\n",
    "movies = pickle.load(open(\"movies.pkl\",\"rb\")) \n",
    "\n",
    "#Streamlit UI\n",
    "st.title(\"Movie Recommendation via Viewer Clustewring\")\n",
    "st.write(\"Select a user to get personalizaed movie recommendations based on similar viewers\")\n",
    "\n",
    "#Select user\n",
    "user_id = st.selectbox(\"Choose userId:\",user_movie_matrix.index)\n",
    "\n",
    "#Genrate Recommendations\n",
    "if st.button(\"Recommend Movies\"):\n",
    "    user_vector = user_movie_matrix.loc[user_id].values.reshape(1,-1)\n",
    "    user_vector_scaled = scaler.transform(user_vector)\n",
    "\n",
    "    cluster_label = kmeans.predict(user_vector_scaled)[0]\n",
    "\n",
    "    cluster_users = np.where(kmeans.labels_ == cluster_label)[0]\n",
    "    cluster_users_ids = user_movie_matrix.index[cluster_users]\n",
    "\n",
    "    cluster_ratings = user_movie_matrix.loc[cluster_user_ids]\n",
    "    mean_ratings = cluster_ratings.mean().sort_values(ascending=False)\n",
    "\n",
    "    user_rated = user_movie_matrix.loc[user_id]\n",
    "    recommendations = mean_ratings[user_rated == 0].head(10).index\n",
    "    recommended_movies = movies[movies[\"moviesId\"].isin(recommendations)][\"title\"].values\n",
    "\n",
    "    st.subheader(f\"Top 10 recommended movies for user {user_id}\")\n",
    "    for i , movie in  enumerate(recommended_movies , start = 1):\n",
    "        st.write(f\"{i}.{movie}\")"
   ]
  },
  {
   "cell_type": "code",
   "execution_count": null,
   "id": "f9e82f43-bbfa-4269-a1eb-7bb7b63355b7",
   "metadata": {},
   "outputs": [],
   "source": []
  }
 ],
 "metadata": {
  "kernelspec": {
   "display_name": "Python 3 (ipykernel)",
   "language": "python",
   "name": "python3"
  },
  "language_info": {
   "codemirror_mode": {
    "name": "ipython",
    "version": 3
   },
   "file_extension": ".py",
   "mimetype": "text/x-python",
   "name": "python",
   "nbconvert_exporter": "python",
   "pygments_lexer": "ipython3",
   "version": "3.13.5"
  }
 },
 "nbformat": 4,
 "nbformat_minor": 5
}
